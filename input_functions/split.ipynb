{
 "cells": [
  {
   "cell_type": "markdown",
   "metadata": {},
   "source": [
    "### Split\n",
    "Codice ausiliario utile per dividere il dataset in insieme di train e in insieme di test"
   ]
  },
  {
   "cell_type": "code",
   "execution_count": null,
   "metadata": {},
   "outputs": [],
   "source": [
    "import os\n",
    "\n",
    "import numpy as np\n",
    "\n",
    "import shutil\n",
    "\n",
    "rootdir=\"./SigNN Character Database\" #path of the original folder\n",
    "\n",
    "classes = ['A', 'B', 'C','D', 'E', 'F', 'G', 'H', 'I', 'J','K','L', 'M', 'N', 'O', 'P' ,'Q' ,'R','S','T','U','V','W','X','Y','Z']\n",
    "\n",
    "for i in classes:\n",
    "    os.makedirs(rootdir +'/train/' + i)\n",
    "\n",
    "    os.makedirs(rootdir +'/test/' + i)\n",
    "\n",
    "    source = rootdir + '/' + i\n",
    "\n",
    "    allFileNames = os.listdir(source)\n",
    "\n",
    "    np.random.shuffle(allFileNames)\n",
    "\n",
    "    test_ratio = 0.25\n",
    "\n",
    "    train_FileNames, test_FileNames = np.split(np.array(allFileNames),\n",
    "                                                      [int(len(allFileNames)* (1 - test_ratio))])\n",
    "\n",
    "    train_FileNames = [source+'/'+ name for name in train_FileNames.tolist()]\n",
    "    test_FileNames = [source+'/' + name for name in test_FileNames.tolist()]\n",
    "\n",
    "    for name in train_FileNames:\n",
    "      shutil.copy(name, rootdir +'/train/' + i)\n",
    "\n",
    "    for name in test_FileNames:\n",
    "      shutil.copy(name, rootdir +'/test/' + i)"
   ]
  },
  {
   "cell_type": "code",
   "execution_count": null,
   "metadata": {},
   "outputs": [],
   "source": []
  }
 ],
 "metadata": {
  "kernelspec": {
   "display_name": "Python 3",
   "language": "python",
   "name": "python3"
  },
  "language_info": {
   "codemirror_mode": {
    "name": "ipython",
    "version": 3
   },
   "file_extension": ".py",
   "mimetype": "text/x-python",
   "name": "python",
   "nbconvert_exporter": "python",
   "pygments_lexer": "ipython3",
   "version": "3.7.6"
  }
 },
 "nbformat": 4,
 "nbformat_minor": 4
}
